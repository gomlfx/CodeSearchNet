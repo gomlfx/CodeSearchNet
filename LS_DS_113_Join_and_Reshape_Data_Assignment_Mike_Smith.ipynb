{
  "nbformat": 4,
  "nbformat_minor": 0,
  "metadata": {
    "colab": {
      "name": "LS_DS_113_Join_and_Reshape_Data_Assignment Mike Smith",
      "provenance": [],
      "collapsed_sections": [],
      "include_colab_link": true
    },
    "kernelspec": {
      "display_name": "Python 3",
      "language": "python",
      "name": "python3"
    }
  },
  "cells": [
    {
      "cell_type": "markdown",
      "metadata": {
        "id": "view-in-github",
        "colab_type": "text"
      },
      "source": [
        "<a href=\"https://colab.research.google.com/github/gomlfx/CodeSearchNet/blob/master/LS_DS_113_Join_and_Reshape_Data_Assignment_Mike_Smith.ipynb\" target=\"_parent\"><img src=\"https://colab.research.google.com/assets/colab-badge.svg\" alt=\"Open In Colab\"/></a>"
      ]
    },
    {
      "cell_type": "markdown",
      "metadata": {
        "colab_type": "text",
        "id": "pmU5YUal1eTZ"
      },
      "source": [
        "Lambda School Data Science\n",
        "\n",
        "*Unit 1, Sprint 1, Module 3*\n",
        "\n",
        "---\n",
        "\n",
        "# Join and Reshape datasets\n",
        "\n",
        "Objectives\n",
        "- concatenate data with pandas\n",
        "- merge data with pandas\n",
        "-  understand tidy data formatting\n",
        "-  melt and pivot data with pandas\n",
        "\n",
        "Links\n",
        "- [Pandas Cheat Sheet](https://github.com/pandas-dev/pandas/blob/master/doc/cheatsheet/Pandas_Cheat_Sheet.pdf)\n",
        "- [Tidy Data](https://en.wikipedia.org/wiki/Tidy_data)\n",
        "  - Combine Data Sets: Standard Joins\n",
        "  - Tidy Data\n",
        "  - Reshaping Data\n",
        "- Python Data Science Handbook\n",
        "  - [Chapter 3.6](https://jakevdp.github.io/PythonDataScienceHandbook/03.06-concat-and-append.html), Combining Datasets: Concat and Append\n",
        "  - [Chapter 3.7](https://jakevdp.github.io/PythonDataScienceHandbook/03.07-merge-and-join.html), Combining Datasets: Merge and Join\n",
        "  - [Chapter 3.8](https://jakevdp.github.io/PythonDataScienceHandbook/03.08-aggregation-and-grouping.html), Aggregation and Grouping\n",
        "  - [Chapter 3.9](https://jakevdp.github.io/PythonDataScienceHandbook/03.09-pivot-tables.html), Pivot Tables\n",
        "  \n",
        "Reference\n",
        "- Pandas Documentation: [Reshaping and Pivot Tables](https://pandas.pydata.org/pandas-docs/stable/reshaping.html)\n",
        "- Modern Pandas, Part 5: [Tidy Data](https://tomaugspurger.github.io/modern-5-tidy.html)"
      ]
    },
    {
      "cell_type": "code",
      "metadata": {
        "id": "5MsWLLW4Xg_i",
        "colab_type": "code",
        "outputId": "e26d1b79-b42f-4fbd-c144-734c54be884a",
        "colab": {
          "base_uri": "https://localhost:8080/",
          "height": 224
        }
      },
      "source": [
        "!wget https://s3.amazonaws.com/instacart-datasets/instacart_online_grocery_shopping_2017_05_01.tar.gz"
      ],
      "execution_count": 11,
      "outputs": [
        {
          "output_type": "stream",
          "text": [
            "--2019-11-06 01:56:43--  https://s3.amazonaws.com/instacart-datasets/instacart_online_grocery_shopping_2017_05_01.tar.gz\n",
            "Resolving s3.amazonaws.com (s3.amazonaws.com)... 52.216.165.221\n",
            "Connecting to s3.amazonaws.com (s3.amazonaws.com)|52.216.165.221|:443... connected.\n",
            "HTTP request sent, awaiting response... 200 OK\n",
            "Length: 205548478 (196M) [application/x-gzip]\n",
            "Saving to: ‘instacart_online_grocery_shopping_2017_05_01.tar.gz’\n",
            "\n",
            "instacart_online_gr 100%[===================>] 196.03M  47.6MB/s    in 4.5s    \n",
            "\n",
            "2019-11-06 01:56:48 (43.3 MB/s) - ‘instacart_online_grocery_shopping_2017_05_01.tar.gz’ saved [205548478/205548478]\n",
            "\n"
          ],
          "name": "stdout"
        }
      ]
    },
    {
      "cell_type": "code",
      "metadata": {
        "id": "gfr4_Ya0XkLI",
        "colab_type": "code",
        "outputId": "11dd525c-27cf-4c53-8124-1c873d306676",
        "colab": {
          "base_uri": "https://localhost:8080/",
          "height": 238
        }
      },
      "source": [
        "!tar --gunzip --extract --verbose --file=instacart_online_grocery_shopping_2017_05_01.tar.gz"
      ],
      "execution_count": 12,
      "outputs": [
        {
          "output_type": "stream",
          "text": [
            "instacart_2017_05_01/\n",
            "instacart_2017_05_01/._aisles.csv\n",
            "instacart_2017_05_01/aisles.csv\n",
            "instacart_2017_05_01/._departments.csv\n",
            "instacart_2017_05_01/departments.csv\n",
            "instacart_2017_05_01/._order_products__prior.csv\n",
            "instacart_2017_05_01/order_products__prior.csv\n",
            "instacart_2017_05_01/._order_products__train.csv\n",
            "instacart_2017_05_01/order_products__train.csv\n",
            "instacart_2017_05_01/._orders.csv\n",
            "instacart_2017_05_01/orders.csv\n",
            "instacart_2017_05_01/._products.csv\n",
            "instacart_2017_05_01/products.csv\n"
          ],
          "name": "stdout"
        }
      ]
    },
    {
      "cell_type": "code",
      "metadata": {
        "id": "N4YyGPNdXrT0",
        "colab_type": "code",
        "outputId": "29402f5f-6b35-41d1-beb9-6b904adc2074",
        "colab": {
          "base_uri": "https://localhost:8080/",
          "height": 34
        }
      },
      "source": [
        "%cd instacart_2017_05_01"
      ],
      "execution_count": 13,
      "outputs": [
        {
          "output_type": "stream",
          "text": [
            "/content/instacart_2017_05_01/instacart_2017_05_01\n"
          ],
          "name": "stdout"
        }
      ]
    },
    {
      "cell_type": "code",
      "metadata": {
        "id": "b26wmLUiXtlM",
        "colab_type": "code",
        "outputId": "6ad47023-9241-4f1f-da79-ba361c315fd9",
        "colab": {
          "base_uri": "https://localhost:8080/",
          "height": 119
        }
      },
      "source": [
        "!ls -lh *.csv"
      ],
      "execution_count": 7,
      "outputs": [
        {
          "output_type": "stream",
          "text": [
            "-rw-r--r-- 1 502 staff 2.6K May  2  2017 aisles.csv\n",
            "-rw-r--r-- 1 502 staff  270 May  2  2017 departments.csv\n",
            "-rw-r--r-- 1 502 staff 551M May  2  2017 order_products__prior.csv\n",
            "-rw-r--r-- 1 502 staff  24M May  2  2017 order_products__train.csv\n",
            "-rw-r--r-- 1 502 staff 104M May  2  2017 orders.csv\n",
            "-rw-r--r-- 1 502 staff 2.1M May  2  2017 products.csv\n"
          ],
          "name": "stdout"
        }
      ]
    },
    {
      "cell_type": "markdown",
      "metadata": {
        "colab_type": "text",
        "id": "kAMtvSQWPUcj"
      },
      "source": [
        "# Assignment\n",
        "\n",
        "## Join Data Practice\n",
        "\n",
        "These are the top 10 most frequently ordered products. How many times was each ordered? \n",
        "\n",
        "1. Banana\n",
        "2. Bag of Organic Bananas\n",
        "3. Organic Strawberries\n",
        "4. Organic Baby Spinach \n",
        "5. Organic Hass Avocado\n",
        "6. Organic Avocado\n",
        "7. Large Lemon \n",
        "8. Strawberries\n",
        "9. Limes \n",
        "10. Organic Whole Milk\n",
        "\n",
        "First, write down which columns you need and which dataframes have them.\n",
        "\n",
        "Next, merge these into a single dataframe.\n",
        "\n",
        "Then, use pandas functions from the previous lesson to get the counts of the top 10 most frequently ordered products."
      ]
    },
    {
      "cell_type": "code",
      "metadata": {
        "id": "vvE0EVHgXMFO",
        "colab_type": "code",
        "colab": {
          "base_uri": "https://localhost:8080/",
          "height": 1000
        },
        "outputId": "8a236a9d-3702-46ef-85d2-9fe290293a8d"
      },
      "source": [
        "##### YOUR CODE HERE #####\n",
        "#explore each csv  by sampling item name\n",
        "import pandas as pd\n",
        "pd.options.display.max_rows=999\n",
        "#pd.set_option('display.max_rows', None)\n",
        "pd.set_option('display.max_columns', None)\n",
        "df = pd.read_csv(\"aisles.csv\")\n",
        "print(df.shape)\n",
        "print(df)\n",
        "\n"
      ],
      "execution_count": 88,
      "outputs": [
        {
          "output_type": "stream",
          "text": [
            "(134, 2)\n",
            "     aisle_id                          aisle\n",
            "0    1         prepared soups salads        \n",
            "1    2         specialty cheeses            \n",
            "2    3         energy granola bars          \n",
            "3    4         instant foods                \n",
            "4    5         marinades meat preparation   \n",
            "5    6         other                        \n",
            "6    7         packaged meat                \n",
            "7    8         bakery desserts              \n",
            "8    9         pasta sauce                  \n",
            "9    10        kitchen supplies             \n",
            "10   11        cold flu allergy             \n",
            "11   12        fresh pasta                  \n",
            "12   13        prepared meals               \n",
            "13   14        tofu meat alternatives       \n",
            "14   15        packaged seafood             \n",
            "15   16        fresh herbs                  \n",
            "16   17        baking ingredients           \n",
            "17   18        bulk dried fruits vegetables \n",
            "18   19        oils vinegars                \n",
            "19   20        oral hygiene                 \n",
            "20   21        packaged cheese              \n",
            "21   22        hair care                    \n",
            "22   23        popcorn jerky                \n",
            "23   24        fresh fruits                 \n",
            "24   25        soap                         \n",
            "25   26        coffee                       \n",
            "26   27        beers coolers                \n",
            "27   28        red wines                    \n",
            "28   29        honeys syrups nectars        \n",
            "29   30        latino foods                 \n",
            "30   31        refrigerated                 \n",
            "31   32        packaged produce             \n",
            "32   33        kosher foods                 \n",
            "33   34        frozen meat seafood          \n",
            "34   35        poultry counter              \n",
            "35   36        butter                       \n",
            "36   37        ice cream ice                \n",
            "37   38        frozen meals                 \n",
            "38   39        seafood counter              \n",
            "39   40        dog food care                \n",
            "40   41        cat food care                \n",
            "41   42        frozen vegan vegetarian      \n",
            "42   43        buns rolls                   \n",
            "43   44        eye ear care                 \n",
            "44   45        candy chocolate              \n",
            "45   46        mint gum                     \n",
            "46   47        vitamins supplements         \n",
            "47   48        breakfast bars pastries      \n",
            "48   49        packaged poultry             \n",
            "49   50        fruit vegetable snacks       \n",
            "50   51        preserved dips spreads       \n",
            "51   52        frozen breakfast             \n",
            "52   53        cream                        \n",
            "53   54        paper goods                  \n",
            "54   55        shave needs                  \n",
            "55   56        diapers wipes                \n",
            "56   57        granola                      \n",
            "57   58        frozen breads doughs         \n",
            "58   59        canned meals beans           \n",
            "59   60        trash bags liners            \n",
            "60   61        cookies cakes                \n",
            "61   62        white wines                  \n",
            "62   63        grains rice dried goods      \n",
            "63   64        energy sports drinks         \n",
            "64   65        protein meal replacements    \n",
            "65   66        asian foods                  \n",
            "66   67        fresh dips tapenades         \n",
            "67   68        bulk grains rice dried goods \n",
            "68   69        soup broth bouillon          \n",
            "69   70        digestion                    \n",
            "70   71        refrigerated pudding desserts\n",
            "71   72        condiments                   \n",
            "72   73        facial care                  \n",
            "73   74        dish detergents              \n",
            "74   75        laundry                      \n",
            "75   76        indian foods                 \n",
            "76   77        soft drinks                  \n",
            "77   78        crackers                     \n",
            "78   79        frozen pizza                 \n",
            "79   80        deodorants                   \n",
            "80   81        canned jarred vegetables     \n",
            "81   82        baby accessories             \n",
            "82   83        fresh vegetables             \n",
            "83   84        milk                         \n",
            "84   85        food storage                 \n",
            "85   86        eggs                         \n",
            "86   87        more household               \n",
            "87   88        spreads                      \n",
            "88   89        salad dressing toppings      \n",
            "89   90        cocoa drink mixes            \n",
            "90   91        soy lactosefree              \n",
            "91   92        baby food formula            \n",
            "92   93        breakfast bakery             \n",
            "93   94        tea                          \n",
            "94   95        canned meat seafood          \n",
            "95   96        lunch meat                   \n",
            "96   97        baking supplies decor        \n",
            "97   98        juice nectars                \n",
            "98   99        canned fruit applesauce      \n",
            "99   100       missing                      \n",
            "100  101       air fresheners candles       \n",
            "101  102       baby bath body care          \n",
            "102  103       ice cream toppings           \n",
            "103  104       spices seasonings            \n",
            "104  105       doughs gelatins bake mixes   \n",
            "105  106       hot dogs bacon sausage       \n",
            "106  107       chips pretzels               \n",
            "107  108       other creams cheeses         \n",
            "108  109       skin care                    \n",
            "109  110       pickled goods olives         \n",
            "110  111       plates bowls cups flatware   \n",
            "111  112       bread                        \n",
            "112  113       frozen juice                 \n",
            "113  114       cleaning products            \n",
            "114  115       water seltzer sparkling water\n",
            "115  116       frozen produce               \n",
            "116  117       nuts seeds dried fruit       \n",
            "117  118       first aid                    \n",
            "118  119       frozen dessert               \n",
            "119  120       yogurt                       \n",
            "120  121       cereal                       \n",
            "121  122       meat counter                 \n",
            "122  123       packaged vegetables fruits   \n",
            "123  124       spirits                      \n",
            "124  125       trail mix snack mix          \n",
            "125  126       feminine care                \n",
            "126  127       body lotions soap            \n",
            "127  128       tortillas flat bread         \n",
            "128  129       frozen appetizers sides      \n",
            "129  130       hot cereal pancake mixes     \n",
            "130  131       dry pasta                    \n",
            "131  132       beauty                       \n",
            "132  133       muscles joints pain relief   \n",
            "133  134       specialty wines champagnes   \n"
          ],
          "name": "stdout"
        }
      ]
    },
    {
      "cell_type": "code",
      "metadata": {
        "id": "QNhtkdiokvjV",
        "colab_type": "code",
        "colab": {
          "base_uri": "https://localhost:8080/",
          "height": 408
        },
        "outputId": "fa3a5b79-be94-4e10-e7f6-68e289be05f2"
      },
      "source": [
        "import pandas as pd\n",
        "pd.options.display.max_rows=999\n",
        "#pd.set_option('display.max_rows', None)\n",
        "pd.set_option('display.max_columns', None)\n",
        "df = pd.read_csv(\"departments.csv\")\n",
        "print(df.shape)\n",
        "print(df)"
      ],
      "execution_count": 87,
      "outputs": [
        {
          "output_type": "stream",
          "text": [
            "(21, 2)\n",
            "    department_id       department\n",
            "0   1              frozen         \n",
            "1   2              other          \n",
            "2   3              bakery         \n",
            "3   4              produce        \n",
            "4   5              alcohol        \n",
            "5   6              international  \n",
            "6   7              beverages      \n",
            "7   8              pets           \n",
            "8   9              dry goods pasta\n",
            "9   10             bulk           \n",
            "10  11             personal care  \n",
            "11  12             meat seafood   \n",
            "12  13             pantry         \n",
            "13  14             breakfast      \n",
            "14  15             canned goods   \n",
            "15  16             dairy eggs     \n",
            "16  17             household      \n",
            "17  18             babies         \n",
            "18  19             snacks         \n",
            "19  20             deli           \n",
            "20  21             missing        \n"
          ],
          "name": "stdout"
        }
      ]
    },
    {
      "cell_type": "code",
      "metadata": {
        "id": "t3ezll_qlLI_",
        "colab_type": "code",
        "colab": {
          "base_uri": "https://localhost:8080/",
          "height": 272
        },
        "outputId": "edf10bd3-d5ec-4fa4-e779-ade91088fe96"
      },
      "source": [
        "import pandas as pd\n",
        "pd.options.display.max_rows=999\n",
        "#pd.set_option('display.max_rows', None)\n",
        "pd.set_option('display.max_columns', None)\n",
        "df = pd.read_csv(\"order_products__prior.csv\")\n",
        "print(df.shape)\n",
        "print(df)"
      ],
      "execution_count": 86,
      "outputs": [
        {
          "output_type": "stream",
          "text": [
            "(32434489, 4)\n",
            "          order_id  product_id  add_to_cart_order  reordered\n",
            "0         2         33120       1                  1        \n",
            "1         2         28985       2                  1        \n",
            "2         2         9327        3                  0        \n",
            "3         2         45918       4                  1        \n",
            "4         2         30035       5                  0        \n",
            "...      ..           ...      ..                 ..        \n",
            "32434484  3421083   39678       6                  1        \n",
            "32434485  3421083   11352       7                  0        \n",
            "32434486  3421083   4600        8                  0        \n",
            "32434487  3421083   24852       9                  1        \n",
            "32434488  3421083   5020        10                 1        \n",
            "\n",
            "[32434489 rows x 4 columns]\n"
          ],
          "name": "stdout"
        }
      ]
    },
    {
      "cell_type": "code",
      "metadata": {
        "id": "4E25cNDylZWm",
        "colab_type": "code",
        "colab": {
          "base_uri": "https://localhost:8080/",
          "height": 272
        },
        "outputId": "c10ec5e7-8e77-4271-de67-7147c1e3fc3f"
      },
      "source": [
        "import pandas as pd\n",
        "pd.options.display.max_rows=999\n",
        "#pd.set_option('display.max_rows', None)\n",
        "pd.set_option('display.max_columns', None)\n",
        "df = pd.read_csv(\"order_products__train.csv\")\n",
        "print(df.shape)\n",
        "print(df)"
      ],
      "execution_count": 85,
      "outputs": [
        {
          "output_type": "stream",
          "text": [
            "(1384617, 4)\n",
            "         order_id  product_id  add_to_cart_order  reordered\n",
            "0        1         49302       1                  1        \n",
            "1        1         11109       2                  1        \n",
            "2        1         10246       3                  0        \n",
            "3        1         49683       4                  0        \n",
            "4        1         43633       5                  1        \n",
            "...     ..           ...      ..                 ..        \n",
            "1384612  3421063   14233       3                  1        \n",
            "1384613  3421063   35548       4                  1        \n",
            "1384614  3421070   35951       1                  1        \n",
            "1384615  3421070   16953       2                  1        \n",
            "1384616  3421070   4724        3                  1        \n",
            "\n",
            "[1384617 rows x 4 columns]\n"
          ],
          "name": "stdout"
        }
      ]
    },
    {
      "cell_type": "code",
      "metadata": {
        "id": "uJNxzZNFmYQ7",
        "colab_type": "code",
        "colab": {
          "base_uri": "https://localhost:8080/",
          "height": 493
        },
        "outputId": "0302b7a1-efd6-4fab-ad0e-620dd8e93b60"
      },
      "source": [
        "import pandas as pd\n",
        "pd.options.display.max_rows=999\n",
        "#pd.set_option('display.max_rows', None)\n",
        "pd.set_option('display.max_columns', None)\n",
        "df = pd.read_csv(\"orders.csv\")\n",
        "print(df.shape)\n",
        "print(df)"
      ],
      "execution_count": 84,
      "outputs": [
        {
          "output_type": "stream",
          "text": [
            "(3421083, 7)\n",
            "         order_id  user_id eval_set  order_number  order_dow  \\\n",
            "0        2539329   1        prior    1             2           \n",
            "1        2398795   1        prior    2             3           \n",
            "2        473747    1        prior    3             3           \n",
            "3        2254736   1        prior    4             4           \n",
            "4        431534    1        prior    5             4           \n",
            "...         ...   ..          ...   ..            ..           \n",
            "3421078  2266710   206209   prior    10            5           \n",
            "3421079  1854736   206209   prior    11            4           \n",
            "3421080  626363    206209   prior    12            1           \n",
            "3421081  2977660   206209   prior    13            1           \n",
            "3421082  272231    206209   train    14            6           \n",
            "\n",
            "         order_hour_of_day  days_since_prior_order  \n",
            "0        8                 NaN                      \n",
            "1        7                  15.0                    \n",
            "2        12                 21.0                    \n",
            "3        7                  29.0                    \n",
            "4        15                 28.0                    \n",
            "...      ..                  ...                    \n",
            "3421078  18                 29.0                    \n",
            "3421079  10                 30.0                    \n",
            "3421080  12                 18.0                    \n",
            "3421081  12                 7.0                     \n",
            "3421082  14                 30.0                    \n",
            "\n",
            "[3421083 rows x 7 columns]\n"
          ],
          "name": "stdout"
        }
      ]
    },
    {
      "cell_type": "code",
      "metadata": {
        "id": "0LjTZ-cZmx6M",
        "colab_type": "code",
        "colab": {
          "base_uri": "https://localhost:8080/",
          "height": 714
        },
        "outputId": "1e1971be-9b10-4eca-82d6-9361410e4bdb"
      },
      "source": [
        "import pandas as pd\n",
        "pd.options.display.max_rows=999\n",
        "#pd.set_option('display.max_rows', None)\n",
        "pd.set_option('display.max_columns', None)\n",
        "df = pd.read_csv(\"products.csv\")\n",
        "print(df.shape)\n",
        "print(df)\n"
      ],
      "execution_count": 83,
      "outputs": [
        {
          "output_type": "stream",
          "text": [
            "(49688, 4)\n",
            "       product_id  \\\n",
            "0      1            \n",
            "1      2            \n",
            "2      3            \n",
            "3      4            \n",
            "4      5            \n",
            "...   ..            \n",
            "49683  49684        \n",
            "49684  49685        \n",
            "49685  49686        \n",
            "49686  49687        \n",
            "49687  49688        \n",
            "\n",
            "                                                            product_name  \\\n",
            "0      Chocolate Sandwich Cookies                                          \n",
            "1      All-Seasons Salt                                                    \n",
            "2      Robust Golden Unsweetened Oolong Tea                                \n",
            "3      Smart Ones Classic Favorites Mini Rigatoni With Vodka Cream Sauce   \n",
            "4      Green Chile Anytime Sauce                                           \n",
            "...                          ...                                           \n",
            "49683  Vodka, Triple Distilled, Twist of Vanilla                           \n",
            "49684  En Croute Roast Hazelnut Cranberry                                  \n",
            "49685  Artisan Baguette                                                    \n",
            "49686  Smartblend Healthy Metabolism Dry Cat Food                          \n",
            "49687  Fresh Foaming Cleanser                                              \n",
            "\n",
            "       aisle_id  department_id  \n",
            "0      61        19             \n",
            "1      104       13             \n",
            "2      94        7              \n",
            "3      38        1              \n",
            "4      5         13             \n",
            "...   ..         ..             \n",
            "49683  124       5              \n",
            "49684  42        1              \n",
            "49685  112       3              \n",
            "49686  41        8              \n",
            "49687  73        11             \n",
            "\n",
            "[49688 rows x 4 columns]\n"
          ],
          "name": "stdout"
        }
      ]
    },
    {
      "cell_type": "code",
      "metadata": {
        "id": "VaKed9K7pkMR",
        "colab_type": "code",
        "colab": {
          "base_uri": "https://localhost:8080/",
          "height": 170
        },
        "outputId": "4bcae3e9-639b-470d-d312-30c56337727d"
      },
      "source": [
        "#departments(21 rows), aisles(134 rows), products (49688 rows) files have string data like banana, etc. \n",
        "#logically, you can see less depts vs aisles vs products, etc. So our strings are in products csv. There are 49000 product id's, which is our items?\n",
        "#search products.csv file for our string matches:\n",
        "#Bag of Organic Bananas\n",
        "#Organic Strawberries\n",
        "#Organic Baby Spinach\n",
        "#Organic Hass Avocado\n",
        "#Organic Avocado\n",
        "#Large Lemon\n",
        "#Strawberries\n",
        "#Limes\n",
        "#Organic Whole Milk\n",
        "import numpy as np\n",
        "df=pd.read_csv('products.csv')\n",
        "print(np.where((df['product_name']=='Banana')))\n",
        "print(np.where((df['product_name']=='Bag of Organic Bananas')))\n",
        "print(np.where((df['product_name']=='Organic Strawberries')))\n",
        "print(np.where((df['product_name']=='Organic Baby Spinach')))\n",
        "print(np.where((df['product_name']=='Organic Hass Avocado')))\n",
        "print(np.where((df['product_name']=='Large Lemon')))\n",
        "print(np.where((df['product_name']=='Strawberries')))\n",
        "print(np.where((df['product_name']=='Limes')))\n",
        "print(np.where((df['product_name']=='Organic Whole Milk')))"
      ],
      "execution_count": 93,
      "outputs": [
        {
          "output_type": "stream",
          "text": [
            "(array([24851]),)\n",
            "(array([13175]),)\n",
            "(array([21136]),)\n",
            "(array([21902]),)\n",
            "(array([47208]),)\n",
            "(array([47625]),)\n",
            "(array([16796]),)\n",
            "(array([26208]),)\n",
            "(array([27844]),)\n"
          ],
          "name": "stdout"
        }
      ]
    },
    {
      "cell_type": "code",
      "metadata": {
        "id": "d4gyp8-4xiuM",
        "colab_type": "code",
        "colab": {
          "base_uri": "https://localhost:8080/",
          "height": 323
        },
        "outputId": "43908d91-45cc-4dee-bc1b-aa99520f0a83"
      },
      "source": [
        "#Index of items found, print row to confirm our item\n",
        "print(df.iloc[[24851]])\n",
        "print(df.iloc[[13175]])\n",
        "print(df.iloc[[21136]])\n",
        "print(df.iloc[[21902]])\n",
        "print(df.iloc[[47208]])\n",
        "print(df.iloc[[47625]])\n",
        "print(df.iloc[[16796]])\n",
        "print(df.iloc[[26208]])\n",
        "print(df.iloc[[27844]])"
      ],
      "execution_count": 94,
      "outputs": [
        {
          "output_type": "stream",
          "text": [
            "       product_id product_name  aisle_id  department_id\n",
            "24851  24852       Banana       24        4            \n",
            "       product_id            product_name  aisle_id  department_id\n",
            "13175  13176       Bag of Organic Bananas  24        4            \n",
            "       product_id          product_name  aisle_id  department_id\n",
            "21136  21137       Organic Strawberries  24        4            \n",
            "       product_id          product_name  aisle_id  department_id\n",
            "21902  21903       Organic Baby Spinach  123       4            \n",
            "       product_id          product_name  aisle_id  department_id\n",
            "47208  47209       Organic Hass Avocado  24        4            \n",
            "       product_id product_name  aisle_id  department_id\n",
            "47625  47626       Large Lemon  24        4            \n",
            "       product_id  product_name  aisle_id  department_id\n",
            "16796  16797       Strawberries  24        4            \n",
            "       product_id product_name  aisle_id  department_id\n",
            "26208  26209       Limes        24        4            \n",
            "       product_id        product_name  aisle_id  department_id\n",
            "27844  27845       Organic Whole Milk  84        16           \n"
          ],
          "name": "stdout"
        }
      ]
    },
    {
      "cell_type": "code",
      "metadata": {
        "id": "gm1m73Xyzn4u",
        "colab_type": "code",
        "colab": {
          "base_uri": "https://localhost:8080/",
          "height": 197
        },
        "outputId": "cbced9ac-9e0e-40c4-d25d-bede00f30143"
      },
      "source": [
        "#now use product_id to find how many times was each ordered.\n",
        "df=pd.read_csv('products.csv')\n",
        "df_result = df('Banana').count()\n",
        "print(df_result)"
      ],
      "execution_count": 122,
      "outputs": [
        {
          "output_type": "error",
          "ename": "TypeError",
          "evalue": "ignored",
          "traceback": [
            "\u001b[0;31m---------------------------------------------------------------------------\u001b[0m",
            "\u001b[0;31mTypeError\u001b[0m                                 Traceback (most recent call last)",
            "\u001b[0;32m<ipython-input-122-a61ee56d4671>\u001b[0m in \u001b[0;36m<module>\u001b[0;34m()\u001b[0m\n\u001b[1;32m      1\u001b[0m \u001b[0mdf\u001b[0m\u001b[0;34m=\u001b[0m\u001b[0mpd\u001b[0m\u001b[0;34m.\u001b[0m\u001b[0mread_csv\u001b[0m\u001b[0;34m(\u001b[0m\u001b[0;34m'products.csv'\u001b[0m\u001b[0;34m)\u001b[0m\u001b[0;34m\u001b[0m\u001b[0;34m\u001b[0m\u001b[0m\n\u001b[0;32m----> 2\u001b[0;31m \u001b[0mdf_result\u001b[0m \u001b[0;34m=\u001b[0m \u001b[0mdf\u001b[0m\u001b[0;34m(\u001b[0m\u001b[0;34m'Banana'\u001b[0m\u001b[0;34m)\u001b[0m\u001b[0;34m.\u001b[0m\u001b[0mcount\u001b[0m\u001b[0;34m(\u001b[0m\u001b[0;34m)\u001b[0m\u001b[0;34m\u001b[0m\u001b[0;34m\u001b[0m\u001b[0m\n\u001b[0m\u001b[1;32m      3\u001b[0m \u001b[0mprint\u001b[0m\u001b[0;34m(\u001b[0m\u001b[0mdf_result\u001b[0m\u001b[0;34m)\u001b[0m\u001b[0;34m\u001b[0m\u001b[0;34m\u001b[0m\u001b[0m\n",
            "\u001b[0;31mTypeError\u001b[0m: 'DataFrame' object is not callable"
          ]
        }
      ]
    },
    {
      "cell_type": "markdown",
      "metadata": {
        "id": "RsiWi4DuXPLP",
        "colab_type": "text"
      },
      "source": [
        "## Reshape Data Section\n",
        "\n",
        "- Replicate the lesson code\n",
        "- Complete the code cells we skipped near the beginning of the notebook\n",
        "- Table 2 --> Tidy\n",
        "- Tidy --> Table 2\n",
        "- Load seaborn's `flights` dataset by running the cell below. Then create a pivot table showing the number of passengers by month and year. Use year for the index and month for the columns. You've done it right if you get 112 passengers for January 1949 and 432 passengers for December 1960."
      ]
    },
    {
      "cell_type": "code",
      "metadata": {
        "id": "fgxulJQq0uLw",
        "colab_type": "code",
        "colab": {
          "base_uri": "https://localhost:8080/",
          "height": 163
        },
        "outputId": "f54a49fd-b61d-406f-e9fd-8cf2ff6cf0ef"
      },
      "source": [
        "flights = sns.load_dataset('flights')"
      ],
      "execution_count": 6,
      "outputs": [
        {
          "output_type": "error",
          "ename": "NameError",
          "evalue": "ignored",
          "traceback": [
            "\u001b[0;31m---------------------------------------------------------------------------\u001b[0m",
            "\u001b[0;31mNameError\u001b[0m                                 Traceback (most recent call last)",
            "\u001b[0;32m<ipython-input-6-2cc0f6b070ed>\u001b[0m in \u001b[0;36m<module>\u001b[0;34m()\u001b[0m\n\u001b[0;32m----> 1\u001b[0;31m \u001b[0mflights\u001b[0m \u001b[0;34m=\u001b[0m \u001b[0msns\u001b[0m\u001b[0;34m.\u001b[0m\u001b[0mload_dataset\u001b[0m\u001b[0;34m(\u001b[0m\u001b[0;34m'flights'\u001b[0m\u001b[0;34m)\u001b[0m\u001b[0;34m\u001b[0m\u001b[0;34m\u001b[0m\u001b[0m\n\u001b[0m",
            "\u001b[0;31mNameError\u001b[0m: name 'sns' is not defined"
          ]
        }
      ]
    },
    {
      "cell_type": "code",
      "metadata": {
        "id": "1qKc88WI0up-",
        "colab_type": "code",
        "colab": {}
      },
      "source": [
        "##### YOUR CODE HERE #####"
      ],
      "execution_count": 0,
      "outputs": []
    },
    {
      "cell_type": "markdown",
      "metadata": {
        "id": "mnOuqL9K0dqh",
        "colab_type": "text"
      },
      "source": [
        "## Join Data Stretch Challenge\n",
        "\n",
        "The [Instacart blog post](https://tech.instacart.com/3-million-instacart-orders-open-sourced-d40d29ead6f2) has a visualization of \"**Popular products** purchased earliest in the day (green) and latest in the day (red).\" \n",
        "\n",
        "The post says,\n",
        "\n",
        "> \"We can also see the time of day that users purchase specific products.\n",
        "\n",
        "> Healthier snacks and staples tend to be purchased earlier in the day, whereas ice cream (especially Half Baked and The Tonight Dough) are far more popular when customers are ordering in the evening.\n",
        "\n",
        "> **In fact, of the top 25 latest ordered products, the first 24 are ice cream! The last one, of course, is a frozen pizza.**\"\n",
        "\n",
        "Your challenge is to reproduce the list of the top 25 latest ordered popular products.\n",
        "\n",
        "We'll define \"popular products\" as products with more than 2,900 orders.\n",
        "\n"
      ]
    },
    {
      "cell_type": "code",
      "metadata": {
        "id": "B-QNMrVkYap4",
        "colab_type": "code",
        "colab": {}
      },
      "source": [
        "##### YOUR CODE HERE #####"
      ],
      "execution_count": 0,
      "outputs": []
    },
    {
      "cell_type": "markdown",
      "metadata": {
        "id": "Ij8S60q0YXxo",
        "colab_type": "text"
      },
      "source": [
        "## Reshape Data Stretch Challenge\n",
        "\n",
        "_Try whatever sounds most interesting to you!_\n",
        "\n",
        "- Replicate more of Instacart's visualization showing \"Hour of Day Ordered\" vs \"Percent of Orders by Product\"\n",
        "- Replicate parts of the other visualization from [Instacart's blog post](https://tech.instacart.com/3-million-instacart-orders-open-sourced-d40d29ead6f2), showing \"Number of Purchases\" vs \"Percent Reorder Purchases\"\n",
        "- Get the most recent order for each user in Instacart's dataset. This is a useful baseline when [predicting a user's next order](https://www.kaggle.com/c/instacart-market-basket-analysis)\n",
        "- Replicate parts of the blog post linked at the top of this notebook: [Modern Pandas, Part 5: Tidy Data](https://tomaugspurger.github.io/modern-5-tidy.html)"
      ]
    },
    {
      "cell_type": "code",
      "metadata": {
        "id": "_d6IA2R0YXFY",
        "colab_type": "code",
        "colab": {}
      },
      "source": [
        "##### YOUR CODE HERE #####"
      ],
      "execution_count": 0,
      "outputs": []
    }
  ]
}